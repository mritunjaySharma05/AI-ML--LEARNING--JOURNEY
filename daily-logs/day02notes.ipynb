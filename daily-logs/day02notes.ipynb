{
  "nbformat": 4,
  "nbformat_minor": 0,
  "metadata": {
    "colab": {
      "provenance": []
    },
    "kernelspec": {
      "name": "python3",
      "display_name": "Python 3"
    },
    "language_info": {
      "name": "python"
    }
  },
  "cells": [
    {
      "cell_type": "markdown",
      "source": [
        "# Day 2 : python basics for machine learning"
      ],
      "metadata": {
        "id": "DMcu-PVXkoo0"
      }
    },
    {
      "cell_type": "markdown",
      "source": [
        "# 1. Variable and Datatype"
      ],
      "metadata": {
        "id": "sHFhbCUhk5qe"
      }
    },
    {
      "cell_type": "code",
      "source": [
        "x=5 #int\n",
        "pi=3.14\n",
        "name=\"mritunjay\" #string\n",
        "is_student=True #boolean\n",
        "print(x,pi,name,is_student)"
      ],
      "metadata": {
        "colab": {
          "base_uri": "https://localhost:8080/"
        },
        "id": "x-7pd4Tslm_S",
        "outputId": "9781e1b3-cfd4-43f9-d850-df21afdcb0c1"
      },
      "execution_count": 2,
      "outputs": [
        {
          "output_type": "stream",
          "name": "stdout",
          "text": [
            "5 3.14 mritunjay True\n"
          ]
        }
      ]
    },
    {
      "cell_type": "markdown",
      "source": [
        "# 2 lists and Dictionaries"
      ],
      "metadata": {
        "id": "BrD3ZecpmHvO"
      }
    },
    {
      "cell_type": "code",
      "source": [
        "#List (like an array)\n",
        "marks=[89,78,90]\n",
        "print(marks[1])\n",
        "\n",
        "#Dictionary (key value pair)\n",
        "student ={ \"name\":\"mritunjay\", \"age\":20}\n",
        "print(student[\"name\"])"
      ],
      "metadata": {
        "colab": {
          "base_uri": "https://localhost:8080/"
        },
        "id": "NW3_KiX5mRVT",
        "outputId": "99c97ffb-73b1-474b-ef6d-1d237d9a87b2"
      },
      "execution_count": 4,
      "outputs": [
        {
          "output_type": "stream",
          "name": "stdout",
          "text": [
            "78\n",
            "mritunjay\n"
          ]
        }
      ]
    },
    {
      "cell_type": "markdown",
      "source": [
        "#3 Loops"
      ],
      "metadata": {
        "id": "FBCqetmpm7lt"
      }
    },
    {
      "cell_type": "code",
      "source": [
        "# for loop\n",
        "for i in range(3):\n",
        "    print(i)\n",
        "#while loop\n",
        "count=0\n",
        "while count<3:\n",
        "    print(count)\n",
        "    count = count+1"
      ],
      "metadata": {
        "colab": {
          "base_uri": "https://localhost:8080/"
        },
        "id": "RKHPwFjgnAZG",
        "outputId": "3df767e1-4380-45ca-e559-9162530c8afd"
      },
      "execution_count": 8,
      "outputs": [
        {
          "output_type": "stream",
          "name": "stdout",
          "text": [
            "0\n",
            "1\n",
            "2\n",
            "0\n",
            "1\n",
            "2\n"
          ]
        }
      ]
    },
    {
      "cell_type": "markdown",
      "source": [
        "#4. Function\n"
      ],
      "metadata": {
        "id": "_oSrvWJUnr1G"
      }
    },
    {
      "cell_type": "code",
      "source": [
        "def greetname(name):\n",
        "    print(\"hello\"+\" \"+name)\n",
        "greetname(\"mritunjay\")"
      ],
      "metadata": {
        "colab": {
          "base_uri": "https://localhost:8080/"
        },
        "id": "FTft6Yd9nxHE",
        "outputId": "1dda599c-7a5f-4a16-e41b-23f5c776cb48"
      },
      "execution_count": 9,
      "outputs": [
        {
          "output_type": "stream",
          "name": "stdout",
          "text": [
            "hello mritunjay\n"
          ]
        }
      ]
    },
    {
      "cell_type": "markdown",
      "source": [
        "# PRACTICE"
      ],
      "metadata": {
        "id": "AukCKs_3oHPb"
      }
    },
    {
      "cell_type": "code",
      "source": [
        "# List of my fav cricters\n",
        "fav=[\"Virat\",\"ABD\",\"Dale steyn\",\"Bhuvi\"]\n",
        "print(f\"{fav[0]} is my fav cricketer.\")\n",
        "\n",
        "# Dictionary of my data\n",
        "bio_data ={\n",
        "    \"name\" : \"Mritunjay\",\n",
        "    \"age\" : 20,\n",
        "    \"fav_food\" : \"pasta\",\n",
        "    \"fav_cric\" : fav[0]\n",
        "}\n",
        "print(bio_data)\n",
        "\n",
        "# function example\n",
        "def check_voterid(age):\n",
        "    if age>=18:\n",
        "      return \"Eligible to Vote\"\n",
        "    else:\n",
        "      return \"not eligible\"\n",
        "age = int(input(\"Enter your age:\"))\n",
        "print(check_voterid(age))\n"
      ],
      "metadata": {
        "colab": {
          "base_uri": "https://localhost:8080/"
        },
        "id": "rWOiTUK6oJyr",
        "outputId": "518f6083-3335-43dc-dbe6-74dfc016ab4b"
      },
      "execution_count": 17,
      "outputs": [
        {
          "output_type": "stream",
          "name": "stdout",
          "text": [
            "Virat is my fav cricketer.\n",
            "{'name': 'Mritunjay', 'age': 20, 'fav_food': 'pasta', 'fav_cric': 'Virat'}\n",
            "Enter your age:78\n",
            "Eligible to Vote\n"
          ]
        }
      ]
    },
    {
      "cell_type": "code",
      "source": [],
      "metadata": {
        "id": "QwuP6nxJqCPH"
      },
      "execution_count": null,
      "outputs": []
    }
  ]
}
