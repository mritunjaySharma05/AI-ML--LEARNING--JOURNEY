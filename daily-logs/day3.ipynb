{
  "nbformat": 4,
  "nbformat_minor": 0,
  "metadata": {
    "colab": {
      "provenance": []
    },
    "kernelspec": {
      "name": "python3",
      "display_name": "Python 3"
    },
    "language_info": {
      "name": "python"
    }
  },
  "cells": [
    {
      "cell_type": "markdown",
      "source": [
        "#DAY 3 : Python Recap AND NumPy Basics\n",
        "\n"
      ],
      "metadata": {
        "id": "vbtJ5jIiCLsZ"
      }
    },
    {
      "cell_type": "markdown",
      "source": [
        " **Part 1** : quick pyhton recap\n",
        ""
      ],
      "metadata": {
        "id": "jDEfDKIoCfIW"
      }
    },
    {
      "cell_type": "code",
      "source": [
        "# mini pyhton challenge\n",
        "\n",
        "numbers=[10,20,30,40,50]\n",
        "def sq_list(lst):\n",
        "     a=[]\n",
        "     for x in lst :\n",
        "       a.append(x**2)\n",
        "     return a\n",
        "print(sq_list(numbers))\n"
      ],
      "metadata": {
        "colab": {
          "base_uri": "https://localhost:8080/"
        },
        "id": "yamWvQIPCzjZ",
        "outputId": "d3783a5b-ff5f-4d0f-fbc9-c5981aade6ce"
      },
      "execution_count": 9,
      "outputs": [
        {
          "output_type": "stream",
          "name": "stdout",
          "text": [
            "[100, 400, 900, 1600, 2500]\n"
          ]
        }
      ]
    },
    {
      "cell_type": "code",
      "source": [
        "# problem 2\n",
        "# in this i have to doule the no the list\n",
        "def dou_num(lst):\n",
        "  b=[]\n",
        "  for x in lst:\n",
        "    b.append(x+x)\n",
        "  return b\n",
        "print(dou_num(numbers))\n"
      ],
      "metadata": {
        "colab": {
          "base_uri": "https://localhost:8080/"
        },
        "id": "iZhjwQF1EvwW",
        "outputId": "4729fff5-321f-4144-a2cd-664a6afc96b3"
      },
      "execution_count": 10,
      "outputs": [
        {
          "output_type": "stream",
          "name": "stdout",
          "text": [
            "[20, 40, 60, 80, 100]\n"
          ]
        }
      ]
    },
    {
      "cell_type": "markdown",
      "source": [
        "## what is numpy ?\n",
        "\n",
        "**NumPy** = numerical python\n",
        "it helps you:\n",
        "* Works with big lists ( called arrays)\n",
        "* Do math super fast\n",
        "* Built the base for ml models\n",
        "\n"
      ],
      "metadata": {
        "id": "mXf87xA0FX5w"
      }
    },
    {
      "cell_type": "code",
      "source": [
        "# importying numpy\n",
        "import numpy as np\n"
      ],
      "metadata": {
        "id": "kkrMLtrzGfsX"
      },
      "execution_count": 11,
      "outputs": []
    },
    {
      "cell_type": "code",
      "source": [
        "# creating  a numpy array\n",
        "arr = np.array([1,2,3,4,5])\n",
        "print(arr)"
      ],
      "metadata": {
        "colab": {
          "base_uri": "https://localhost:8080/"
        },
        "id": "siaVR25lGYq7",
        "outputId": "620827f3-cfa7-4869-cc46-7f41d575c5b0"
      },
      "execution_count": 13,
      "outputs": [
        {
          "output_type": "stream",
          "name": "stdout",
          "text": [
            "[1 2 3 4 5]\n"
          ]
        }
      ]
    },
    {
      "cell_type": "code",
      "source": [
        "#arrays of zero\n",
        "zeros = np.zeros([2,3])\n",
        "print(zeros)"
      ],
      "metadata": {
        "colab": {
          "base_uri": "https://localhost:8080/"
        },
        "id": "e8pDD857GxA3",
        "outputId": "6f4bd89b-a0d3-4a92-e338-780e70e0891b"
      },
      "execution_count": 14,
      "outputs": [
        {
          "output_type": "stream",
          "name": "stdout",
          "text": [
            "[[0. 0. 0.]\n",
            " [0. 0. 0.]]\n"
          ]
        }
      ]
    },
    {
      "cell_type": "code",
      "source": [
        "# arrays of ones\n",
        "ones = np.ones(\n",
        "    [3,3])\n",
        "print(ones)"
      ],
      "metadata": {
        "colab": {
          "base_uri": "https://localhost:8080/"
        },
        "id": "9Cevl7HaHCa5",
        "outputId": "1d89f1ca-4974-49a5-9caa-1c95f9dd1b5b"
      },
      "execution_count": 16,
      "outputs": [
        {
          "output_type": "stream",
          "name": "stdout",
          "text": [
            "[[1. 1. 1.]\n",
            " [1. 1. 1.]\n",
            " [1. 1. 1.]]\n"
          ]
        }
      ]
    },
    {
      "cell_type": "code",
      "source": [
        "# creating a range of array\n",
        "range_arr = np.arange(1,10,2)\n",
        "print(range_arr)"
      ],
      "metadata": {
        "colab": {
          "base_uri": "https://localhost:8080/"
        },
        "id": "0NUNawg-HPVy",
        "outputId": "5de50a94-9468-429a-f097-098c66399dfd"
      },
      "execution_count": 18,
      "outputs": [
        {
          "output_type": "stream",
          "name": "stdout",
          "text": [
            "[1 3 5 7 9]\n"
          ]
        }
      ]
    },
    {
      "cell_type": "code",
      "source": [
        "# Reshape an array\n",
        "reshaped = np.array([1,2,3,4,5,6]).reshape(3,2)\n",
        "print(reshaped)"
      ],
      "metadata": {
        "colab": {
          "base_uri": "https://localhost:8080/"
        },
        "id": "Uosb5UBDHpVN",
        "outputId": "5bbe776b-2c07-4b31-f81e-9bee00d664e3"
      },
      "execution_count": 22,
      "outputs": [
        {
          "output_type": "stream",
          "name": "stdout",
          "text": [
            "[[1 2]\n",
            " [3 4]\n",
            " [5 6]]\n"
          ]
        }
      ]
    },
    {
      "cell_type": "markdown",
      "source": [
        "## Todays practice\n"
      ],
      "metadata": {
        "id": "0jtlCrh9IZYx"
      }
    },
    {
      "cell_type": "code",
      "source": [
        "arrp =np.zeros([4,4])\n",
        "print(arrp)"
      ],
      "metadata": {
        "colab": {
          "base_uri": "https://localhost:8080/"
        },
        "id": "r5BUUkDRIY_G",
        "outputId": "2caea947-1680-4a86-e758-9efbaeedb158"
      },
      "execution_count": 23,
      "outputs": [
        {
          "output_type": "stream",
          "name": "stdout",
          "text": [
            "[[0. 0. 0. 0.]\n",
            " [0. 0. 0. 0.]\n",
            " [0. 0. 0. 0.]\n",
            " [0. 0. 0. 0.]]\n"
          ]
        }
      ]
    },
    {
      "cell_type": "code",
      "source": [
        "ran = np.random.rand(3,3)\n",
        "print(ran)"
      ],
      "metadata": {
        "colab": {
          "base_uri": "https://localhost:8080/"
        },
        "id": "pdtXJ0eAIoLU",
        "outputId": "5d9066c1-ea8e-4863-deef-dc29af56a7a8"
      },
      "execution_count": 24,
      "outputs": [
        {
          "output_type": "stream",
          "name": "stdout",
          "text": [
            "[[0.42783391 0.13135108 0.10761349]\n",
            " [0.59665392 0.50066619 0.63533009]\n",
            " [0.45626024 0.09193313 0.50121248]]\n"
          ]
        }
      ]
    },
    {
      "cell_type": "code",
      "source": [
        "arr2 = np.array([1,2,3,4,5,6]).reshape(3,2)\n",
        "print(arr2)"
      ],
      "metadata": {
        "colab": {
          "base_uri": "https://localhost:8080/"
        },
        "id": "-BUV-EP2IyUO",
        "outputId": "9bec747c-78dc-4b5a-c973-e0ab9431d150"
      },
      "execution_count": 30,
      "outputs": [
        {
          "output_type": "stream",
          "name": "stdout",
          "text": [
            "[[1 2]\n",
            " [3 4]\n",
            " [5 6]]\n"
          ]
        }
      ]
    }
  ]
}