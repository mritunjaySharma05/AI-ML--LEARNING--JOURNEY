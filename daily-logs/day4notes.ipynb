{
  "nbformat": 4,
  "nbformat_minor": 0,
  "metadata": {
    "colab": {
      "provenance": []
    },
    "kernelspec": {
      "name": "python3",
      "display_name": "Python 3"
    },
    "language_info": {
      "name": "python"
    }
  },
  "cells": [
    {
      "cell_type": "markdown",
      "source": [
        "# Day 4: NumPy indexing, slicing and operations"
      ],
      "metadata": {
        "id": "5Bwu6KEYUVUl"
      }
    },
    {
      "cell_type": "markdown",
      "source": [
        "**1. Indexing and slicing**"
      ],
      "metadata": {
        "id": "HnE4CtmZUcSJ"
      }
    },
    {
      "cell_type": "code",
      "source": [
        "import numpy as np\n",
        "arr = np.array([10,20,30,40,50])\n",
        "print(arr[0])\n",
        "print(arr[1:4])\n",
        "print(arr[-1])"
      ],
      "metadata": {
        "colab": {
          "base_uri": "https://localhost:8080/"
        },
        "id": "G-HWQZxXUpUU",
        "outputId": "189c1c30-92e7-4d87-9c7d-384811656842"
      },
      "execution_count": 3,
      "outputs": [
        {
          "output_type": "stream",
          "name": "stdout",
          "text": [
            "10\n",
            "[20 30 40]\n",
            "50\n"
          ]
        }
      ]
    },
    {
      "cell_type": "markdown",
      "source": [
        "2D array"
      ],
      "metadata": {
        "id": "DEb1YKCaVH_X"
      }
    },
    {
      "cell_type": "code",
      "execution_count": 5,
      "metadata": {
        "colab": {
          "base_uri": "https://localhost:8080/"
        },
        "id": "eF0S5EYXTkr7",
        "outputId": "7ef4e3bf-fb9a-46b8-fc3f-a099744fcfbc"
      },
      "outputs": [
        {
          "output_type": "stream",
          "name": "stdout",
          "text": [
            "6\n"
          ]
        }
      ],
      "source": [
        "matrix = np.array([[1,2,3],[4,5,6]])\n",
        "print(matrix[1][2])\n"
      ]
    },
    {
      "cell_type": "markdown",
      "source": [
        "**2. Array operations**"
      ],
      "metadata": {
        "id": "uDaXbDPqVmt1"
      }
    },
    {
      "cell_type": "code",
      "source": [
        "a= np.array([1,2,3])\n",
        "b= np.array([4,5,6])\n",
        "print(a+b)\n",
        "print(a-b)\n",
        "print(a*b)\n",
        "print(a/b)\n",
        "print(a**2)"
      ],
      "metadata": {
        "colab": {
          "base_uri": "https://localhost:8080/"
        },
        "id": "ODv0KJjSVupp",
        "outputId": "73079100-bc90-4de9-f1b1-aed1d3852202"
      },
      "execution_count": 6,
      "outputs": [
        {
          "output_type": "stream",
          "name": "stdout",
          "text": [
            "[5 7 9]\n",
            "[-3 -3 -3]\n",
            "[ 4 10 18]\n",
            "[0.25 0.4  0.5 ]\n",
            "[1 4 9]\n"
          ]
        }
      ]
    },
    {
      "cell_type": "markdown",
      "source": [
        "**3. Broadcasting** : when NumPy adjust Dimensions automatically"
      ],
      "metadata": {
        "id": "o0xf8M3TWAgP"
      }
    },
    {
      "cell_type": "code",
      "source": [
        "print(a+5)"
      ],
      "metadata": {
        "colab": {
          "base_uri": "https://localhost:8080/"
        },
        "id": "oWINBSllWFeq",
        "outputId": "34c1f140-8e9f-428c-d6fb-8a1d735c8b22"
      },
      "execution_count": 7,
      "outputs": [
        {
          "output_type": "stream",
          "name": "stdout",
          "text": [
            "[6 7 8]\n"
          ]
        }
      ]
    },
    {
      "cell_type": "markdown",
      "source": [
        "**4. Useful numpy functions**"
      ],
      "metadata": {
        "id": "YZUVLOiKWge-"
      }
    },
    {
      "cell_type": "code",
      "source": [
        "arr = np.array([10,20,30,40,50])\n",
        "\n",
        "print(np.mean(arr)) # used to find avg of value in array\n",
        "print(np.max(arr))  # used to find maximum value in a array\n",
        "print(np.min(arr))  # used to find minimum value in a array\n",
        "print(np.sum(arr))  # to find sum of all values in an array"
      ],
      "metadata": {
        "colab": {
          "base_uri": "https://localhost:8080/"
        },
        "id": "qDqZlu0kWfDH",
        "outputId": "ddf99b7c-f80a-42e4-a537-8e9c29cb45b3"
      },
      "execution_count": 9,
      "outputs": [
        {
          "output_type": "stream",
          "name": "stdout",
          "text": [
            "30.0\n",
            "50\n",
            "10\n",
            "150\n"
          ]
        }
      ]
    },
    {
      "cell_type": "markdown",
      "source": [
        "# Practice\n"
      ],
      "metadata": {
        "id": "Vphzea6-Xh0g"
      }
    },
    {
      "cell_type": "code",
      "source": [
        "# slicing practice\n",
        "# in this i have to slice the last two rowsx of 3x3 array\n",
        "parr = np.random.rand(3,3)\n",
        "print(parr[-2: : ])\n",
        "# now multipy by 10\n",
        "print(parr*10)"
      ],
      "metadata": {
        "colab": {
          "base_uri": "https://localhost:8080/"
        },
        "id": "xBwNLCnQXlAT",
        "outputId": "d17846d5-db17-4d8e-ae81-dc4a53c0d393"
      },
      "execution_count": 20,
      "outputs": [
        {
          "output_type": "stream",
          "name": "stdout",
          "text": [
            "[[0.01154975 0.90916642 0.58215921]\n",
            " [0.24734658 0.01063632 0.40648249]]\n",
            "[[6.3201375  7.00273803 6.45976124]\n",
            " [0.11549751 9.09166422 5.82159207]\n",
            " [2.47346577 0.10636315 4.06482485]]\n"
          ]
        }
      ]
    }
  ]
}