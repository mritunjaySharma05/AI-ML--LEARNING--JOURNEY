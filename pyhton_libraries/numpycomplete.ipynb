{
  "nbformat": 4,
  "nbformat_minor": 0,
  "metadata": {
    "colab": {
      "provenance": []
    },
    "kernelspec": {
      "name": "python3",
      "display_name": "Python 3"
    },
    "language_info": {
      "name": "python"
    }
  },
  "cells": [
    {
      "cell_type": "markdown",
      "source": [
        "## NUMPY  "
      ],
      "metadata": {
        "id": "pvzqyJ9uSUc_"
      }
    },
    {
      "cell_type": "markdown",
      "source": [
        "## why use numpy?\n",
        "\n",
        "\n",
        "*   Numpy provides efficient storage\n",
        "*  It also provides better ways of handling data for processing\n",
        "*  It is fast\n",
        "*  Numpy uses relatively less memory to store data\n"
      ],
      "metadata": {
        "id": "3d5tqkd5SkgO"
      }
    },
    {
      "cell_type": "code",
      "source": [
        "import numpy as np"
      ],
      "metadata": {
        "id": "fm21SSVOTmiG"
      },
      "execution_count": 2,
      "outputs": []
    },
    {
      "cell_type": "markdown",
      "source": [
        "**Creating a numpy array**"
      ],
      "metadata": {
        "id": "xoi0ZHVrU8fD"
      }
    },
    {
      "cell_type": "code",
      "source": [
        "#two dimentional array\n",
        "myarr = np.array([[1,2,3]])\n",
        "# one dimentional array\n",
        "arr = np.array([1,2,3,4,5,6])\n",
        "print(myarr)"
      ],
      "metadata": {
        "colab": {
          "base_uri": "https://localhost:8080/"
        },
        "id": "4HHLMz6XTvXq",
        "outputId": "80a21471-1b64-4241-9f45-8ec8ff840914"
      },
      "execution_count": null,
      "outputs": [
        {
          "output_type": "stream",
          "name": "stdout",
          "text": [
            "[[1 2 3]]\n"
          ]
        }
      ]
    },
    {
      "cell_type": "code",
      "source": [
        "myarr"
      ],
      "metadata": {
        "colab": {
          "base_uri": "https://localhost:8080/"
        },
        "id": "E3REkQunUuK-",
        "outputId": "3d7bf861-5896-4dc6-d0a4-33f8097450cb"
      },
      "execution_count": null,
      "outputs": [
        {
          "output_type": "execute_result",
          "data": {
            "text/plain": [
              "array([[1, 2, 3]])"
            ]
          },
          "metadata": {},
          "execution_count": 17
        }
      ]
    },
    {
      "cell_type": "markdown",
      "source": [
        "**Accessing element from array**"
      ],
      "metadata": {
        "id": "8VMMfM74VuGz"
      }
    },
    {
      "cell_type": "code",
      "source": [
        "print(myarr[0,2])"
      ],
      "metadata": {
        "colab": {
          "base_uri": "https://localhost:8080/"
        },
        "id": "dAihJm9zV2w4",
        "outputId": "c6277ace-4058-4129-fe32-70caeedde85b"
      },
      "execution_count": null,
      "outputs": [
        {
          "output_type": "stream",
          "name": "stdout",
          "text": [
            "3\n"
          ]
        }
      ]
    },
    {
      "cell_type": "markdown",
      "source": [
        "**Information about array**"
      ],
      "metadata": {
        "id": "pRp7txSvWGHT"
      }
    },
    {
      "cell_type": "code",
      "source": [
        "myarr.shape # tells about rows and columns"
      ],
      "metadata": {
        "colab": {
          "base_uri": "https://localhost:8080/"
        },
        "id": "9hj-vcfjWRgG",
        "outputId": "1a4be5c8-f2e7-46aa-efd4-af44c60ec2b8"
      },
      "execution_count": null,
      "outputs": [
        {
          "output_type": "execute_result",
          "data": {
            "text/plain": [
              "(1, 3)"
            ]
          },
          "metadata": {},
          "execution_count": 15
        }
      ]
    },
    {
      "cell_type": "code",
      "source": [
        "myarr.dtype # tells about data type"
      ],
      "metadata": {
        "colab": {
          "base_uri": "https://localhost:8080/"
        },
        "id": "r7J_9gKMWtNV",
        "outputId": "7682af67-e795-4cb6-d430-b61110fc8eb2"
      },
      "execution_count": null,
      "outputs": [
        {
          "output_type": "execute_result",
          "data": {
            "text/plain": [
              "dtype('int64')"
            ]
          },
          "metadata": {},
          "execution_count": 19
        }
      ]
    },
    {
      "cell_type": "markdown",
      "source": [
        "**reshaping array**"
      ],
      "metadata": {
        "id": "WOg9KyGob57b"
      }
    },
    {
      "cell_type": "code",
      "source": [
        "arr = arr.reshape(2,3)\n",
        "arr"
      ],
      "metadata": {
        "colab": {
          "base_uri": "https://localhost:8080/"
        },
        "id": "EiMePiEgb6cN",
        "outputId": "c78496c6-7f32-4af2-98d6-018b60f4ae1a"
      },
      "execution_count": null,
      "outputs": [
        {
          "output_type": "execute_result",
          "data": {
            "text/plain": [
              "array([[1, 2, 3],\n",
              "       [4, 5, 6]])"
            ]
          },
          "metadata": {},
          "execution_count": 36
        }
      ]
    },
    {
      "cell_type": "markdown",
      "source": [
        "**revel**"
      ],
      "metadata": {
        "id": "nM1jmxcccYsb"
      }
    },
    {
      "cell_type": "code",
      "source": [
        "# revel makes array as one dimnetional or you can say it hepls to regain its orignal shape\n",
        "arr = arr.ravel()\n",
        "arr"
      ],
      "metadata": {
        "colab": {
          "base_uri": "https://localhost:8080/"
        },
        "id": "4GChgTzNcc_s",
        "outputId": "fe76c44f-7542-4300-f912-edcb9f65215c"
      },
      "execution_count": null,
      "outputs": [
        {
          "output_type": "execute_result",
          "data": {
            "text/plain": [
              "array([1, 2, 3, 4, 5, 6])"
            ]
          },
          "metadata": {},
          "execution_count": 38
        }
      ]
    },
    {
      "cell_type": "markdown",
      "source": [
        "## Array creation methods"
      ],
      "metadata": {
        "id": "ikAbAV6SXIwe"
      }
    },
    {
      "cell_type": "markdown",
      "source": [
        "\n",
        "\n",
        "1.   Conversion from other Python structures (e.g., lists, tuples)\n",
        "2.   Intrinsic numpy array array creation objects (e.g., arange, ones, zeros, etc.)\n",
        "3.   Reading arrays from disk, either from standard or custom formats\n",
        "4.   Creating arrays from raw bytes through the use of strings or buffers\n",
        "5.   Use of special library functions (e.g., random)\n",
        "\n"
      ],
      "metadata": {
        "id": "J6Y_pBoeYe1I"
      }
    },
    {
      "cell_type": "markdown",
      "source": [
        "**1.Conversion from other Python structures **"
      ],
      "metadata": {
        "id": "RqeeD3zBbDoM"
      }
    },
    {
      "cell_type": "code",
      "source": [
        "# above already done"
      ],
      "metadata": {
        "id": "HGx6kQIMW47t"
      },
      "execution_count": null,
      "outputs": []
    },
    {
      "cell_type": "markdown",
      "source": [
        "**2. Intrinsic numpy array array creation objects**"
      ],
      "metadata": {
        "id": "6GynbirEZMoj"
      }
    },
    {
      "cell_type": "code",
      "source": [
        "# arrays of zeros\n",
        "zeros=np.zeros((2,5))\n",
        "print(zeros)\n",
        "print(zeros.dtype)\n",
        "print(zeros.shape)"
      ],
      "metadata": {
        "colab": {
          "base_uri": "https://localhost:8080/"
        },
        "id": "nVmyP-naZDbq",
        "outputId": "e504bda4-bf3e-42ea-d6a2-c2d60c235a95"
      },
      "execution_count": null,
      "outputs": [
        {
          "output_type": "stream",
          "name": "stdout",
          "text": [
            "[[0. 0. 0. 0. 0.]\n",
            " [0. 0. 0. 0. 0.]]\n",
            "float64\n",
            "(2, 5)\n"
          ]
        }
      ]
    },
    {
      "cell_type": "code",
      "source": [
        "# range of arrays\n",
        "rng = np.arange(15)\n",
        "print(rng)"
      ],
      "metadata": {
        "colab": {
          "base_uri": "https://localhost:8080/"
        },
        "id": "Y_Oqz9goaLFu",
        "outputId": "53ec24ca-e1a6-4142-bbea-f08df5572a7f"
      },
      "execution_count": null,
      "outputs": [
        {
          "output_type": "stream",
          "name": "stdout",
          "text": [
            "[ 0  1  2  3  4  5  6  7  8  9 10 11 12 13 14]\n"
          ]
        }
      ]
    },
    {
      "cell_type": "code",
      "source": [
        "# linspace provides Equally linearly spaced elements in a range\n",
        "lspace = np.linspace(1,5,12)\n",
        "print(lspace)"
      ],
      "metadata": {
        "colab": {
          "base_uri": "https://localhost:8080/"
        },
        "id": "KAYNxLurad32",
        "outputId": "ca885a68-e257-4096-e66e-b0de1658047b"
      },
      "execution_count": null,
      "outputs": [
        {
          "output_type": "stream",
          "name": "stdout",
          "text": [
            "[1.         1.36363636 1.72727273 2.09090909 2.45454545 2.81818182\n",
            " 3.18181818 3.54545455 3.90909091 4.27272727 4.63636364 5.        ]\n"
          ]
        }
      ]
    },
    {
      "cell_type": "code",
      "source": [],
      "metadata": {
        "id": "r8jq5zBGa-oo"
      },
      "execution_count": null,
      "outputs": []
    },
    {
      "cell_type": "markdown",
      "source": [
        "# NUMPY AXIS"
      ],
      "metadata": {
        "id": "sSvp_dpEcyKc"
      }
    },
    {
      "cell_type": "markdown",
      "source": [
        "In NumPy, the axis parameter is used to specify the direction along which operations (like sum, mean, min, max, etc.) are performed on arrays.\n",
        "\n",
        "NumPy arrays can be multi-dimensional (1D, 2D, 3D, etc.), and the axis helps us choose whether to apply a function across rows or columns.\n",
        "\n",
        "Basic Concept:\n",
        "*\tAxis 0 → Operates column-wise (i.e., down the rows)\n",
        "*\tAxis 1 → Operates row-wise (i.e., across the columns)"
      ],
      "metadata": {
        "id": "5wWe2UTyeKJ8"
      }
    },
    {
      "cell_type": "code",
      "source": [
        "x = [[1,2,3],[4,5,6],[7,1,0]]\n",
        "aax = np.array(x)\n",
        "aax"
      ],
      "metadata": {
        "colab": {
          "base_uri": "https://localhost:8080/"
        },
        "id": "s6bsJt1bdrCa",
        "outputId": "4dbcb388-1340-4ae0-e3a4-de3e0bcc0636"
      },
      "execution_count": 7,
      "outputs": [
        {
          "output_type": "execute_result",
          "data": {
            "text/plain": [
              "array([[1, 2, 3],\n",
              "       [4, 5, 6],\n",
              "       [7, 1, 0]])"
            ]
          },
          "metadata": {},
          "execution_count": 7
        }
      ]
    },
    {
      "cell_type": "code",
      "source": [
        "aax.sum(axis=0)"
      ],
      "metadata": {
        "colab": {
          "base_uri": "https://localhost:8080/"
        },
        "id": "hJj0fi2Jd-XB",
        "outputId": "1862fd92-49af-44d2-acb8-a06bf39c1533"
      },
      "execution_count": null,
      "outputs": [
        {
          "output_type": "execute_result",
          "data": {
            "text/plain": [
              "array([12,  8,  9])"
            ]
          },
          "metadata": {},
          "execution_count": 43
        }
      ]
    },
    {
      "cell_type": "code",
      "source": [
        "aax.sum(axis=1)"
      ],
      "metadata": {
        "colab": {
          "base_uri": "https://localhost:8080/"
        },
        "id": "w27qquRAe0Ty",
        "outputId": "a5c82003-4c69-441d-e11d-6c42a9176f3f"
      },
      "execution_count": null,
      "outputs": [
        {
          "output_type": "execute_result",
          "data": {
            "text/plain": [
              "array([ 6, 15,  8])"
            ]
          },
          "metadata": {},
          "execution_count": 44
        }
      ]
    },
    {
      "cell_type": "code",
      "source": [
        "# T use for trans pose\n",
        "aax.T"
      ],
      "metadata": {
        "colab": {
          "base_uri": "https://localhost:8080/"
        },
        "id": "fSygeEpsfKbO",
        "outputId": "00c4b1ad-e79d-49d6-9ed3-6847c39ea357"
      },
      "execution_count": null,
      "outputs": [
        {
          "output_type": "execute_result",
          "data": {
            "text/plain": [
              "array([[1, 4, 7],\n",
              "       [2, 5, 1],\n",
              "       [3, 6, 0]])"
            ]
          },
          "metadata": {},
          "execution_count": 45
        }
      ]
    },
    {
      "cell_type": "code",
      "source": [
        "aax.ndim # tells how many dimentions are there"
      ],
      "metadata": {
        "colab": {
          "base_uri": "https://localhost:8080/"
        },
        "id": "k3uFIhpxfiTR",
        "outputId": "84b49e1d-6142-4968-aea4-0c1d784173bf"
      },
      "execution_count": null,
      "outputs": [
        {
          "output_type": "execute_result",
          "data": {
            "text/plain": [
              "2"
            ]
          },
          "metadata": {},
          "execution_count": 46
        }
      ]
    },
    {
      "cell_type": "code",
      "source": [
        "aax.size # tells about the size"
      ],
      "metadata": {
        "colab": {
          "base_uri": "https://localhost:8080/"
        },
        "id": "Zlsta69afpUI",
        "outputId": "9d865dcc-c06a-4779-ee1b-3f58beaa9c77"
      },
      "execution_count": null,
      "outputs": [
        {
          "output_type": "execute_result",
          "data": {
            "text/plain": [
              "9"
            ]
          },
          "metadata": {},
          "execution_count": 47
        }
      ]
    },
    {
      "cell_type": "code",
      "source": [
        "##  argmax function :- it give the index of largest element\n",
        "m =np.array([1,2,3,567,5])\n",
        "print(m.argmax())\n",
        "#  argmin function :- it gives the index of smallest element\n",
        "print(m.argmin())\n",
        "# argsort function :- sort the arrray\n",
        "print(m.argsort())"
      ],
      "metadata": {
        "colab": {
          "base_uri": "https://localhost:8080/"
        },
        "id": "FVR977W9i-CK",
        "outputId": "bb2d34c9-251c-4172-93f3-90beec7130b7"
      },
      "execution_count": 5,
      "outputs": [
        {
          "output_type": "stream",
          "name": "stdout",
          "text": [
            "3\n",
            "0\n",
            "[0 1 2 4 3]\n"
          ]
        }
      ]
    },
    {
      "cell_type": "markdown",
      "source": [
        "**Mathematical operations in numpy**\n",
        "numpy gives us feature to do matrix operations"
      ],
      "metadata": {
        "id": "IxweWCtetUSN"
      }
    },
    {
      "cell_type": "code",
      "source": [
        "m2=np.array([[0, 1, 2],\n",
        "       [0, 1, 2],\n",
        "       [2, 1, 0]])\n",
        "m1 = np.array([[1, 4, 7],\n",
        "       [2, 5, 1],\n",
        "       [3, 6, 0]])"
      ],
      "metadata": {
        "id": "HWN56Os8tUgz"
      },
      "execution_count": 17,
      "outputs": []
    },
    {
      "cell_type": "code",
      "source": [
        "m1 + m2  # sum with two dimentional array"
      ],
      "metadata": {
        "colab": {
          "base_uri": "https://localhost:8080/"
        },
        "id": "hUdcNecJteqt",
        "outputId": "d1d0d93a-89ac-42c4-92b0-2809bec44b92"
      },
      "execution_count": 18,
      "outputs": [
        {
          "output_type": "execute_result",
          "data": {
            "text/plain": [
              "array([[1, 5, 9],\n",
              "       [2, 6, 3],\n",
              "       [5, 7, 0]])"
            ]
          },
          "metadata": {},
          "execution_count": 18
        }
      ]
    },
    {
      "cell_type": "code",
      "source": [
        "m1*m2 # multiplication with two dimentional array"
      ],
      "metadata": {
        "colab": {
          "base_uri": "https://localhost:8080/"
        },
        "id": "GwvpYfwBuyHv",
        "outputId": "e7b6baa9-b602-4683-81fa-093404bd99e5"
      },
      "execution_count": 19,
      "outputs": [
        {
          "output_type": "execute_result",
          "data": {
            "text/plain": [
              "array([[ 0,  4, 14],\n",
              "       [ 0,  5,  2],\n",
              "       [ 6,  6,  0]])"
            ]
          },
          "metadata": {},
          "execution_count": 19
        }
      ]
    },
    {
      "cell_type": "code",
      "source": [
        "m1*2 # multiplication with constant"
      ],
      "metadata": {
        "colab": {
          "base_uri": "https://localhost:8080/"
        },
        "id": "tmVgdg3pvAWq",
        "outputId": "5399a030-645f-4c04-8a6b-8da6a980ed12"
      },
      "execution_count": 20,
      "outputs": [
        {
          "output_type": "execute_result",
          "data": {
            "text/plain": [
              "array([[ 2,  8, 14],\n",
              "       [ 4, 10,  2],\n",
              "       [ 6, 12,  0]])"
            ]
          },
          "metadata": {},
          "execution_count": 20
        }
      ]
    },
    {
      "cell_type": "code",
      "source": [
        "np.sqrt(m1) # square root each element in array"
      ],
      "metadata": {
        "colab": {
          "base_uri": "https://localhost:8080/"
        },
        "id": "YT0jdXw3vLpF",
        "outputId": "eaa29b96-ee73-417f-d2c9-aad31d7dbc31"
      },
      "execution_count": 21,
      "outputs": [
        {
          "output_type": "execute_result",
          "data": {
            "text/plain": [
              "array([[1.        , 2.        , 2.64575131],\n",
              "       [1.41421356, 2.23606798, 1.        ],\n",
              "       [1.73205081, 2.44948974, 0.        ]])"
            ]
          },
          "metadata": {},
          "execution_count": 21
        }
      ]
    },
    {
      "cell_type": "code",
      "source": [
        "m2.sum() # gives sum of all elements in array"
      ],
      "metadata": {
        "colab": {
          "base_uri": "https://localhost:8080/"
        },
        "id": "bW_zmZyTvfYo",
        "outputId": "05286652-299c-4954-c227-e65756cb1f54"
      },
      "execution_count": 22,
      "outputs": [
        {
          "output_type": "execute_result",
          "data": {
            "text/plain": [
              "np.int64(9)"
            ]
          },
          "metadata": {},
          "execution_count": 22
        }
      ]
    },
    {
      "cell_type": "code",
      "source": [
        "m2.max()  #gives the largest element in array"
      ],
      "metadata": {
        "colab": {
          "base_uri": "https://localhost:8080/"
        },
        "id": "3IKreRdPvtCr",
        "outputId": "09842ac0-d7ea-4894-e624-d40c2c712978"
      },
      "execution_count": 26,
      "outputs": [
        {
          "output_type": "execute_result",
          "data": {
            "text/plain": [
              "np.int64(2)"
            ]
          },
          "metadata": {},
          "execution_count": 26
        }
      ]
    },
    {
      "cell_type": "code",
      "source": [
        "m2.min() # gives the smallest element in array"
      ],
      "metadata": {
        "colab": {
          "base_uri": "https://localhost:8080/"
        },
        "id": "oGfVQTSxwEFg",
        "outputId": "55050f18-61a8-4fc3-e372-727b10b2553b"
      },
      "execution_count": 27,
      "outputs": [
        {
          "output_type": "execute_result",
          "data": {
            "text/plain": [
              "np.int64(0)"
            ]
          },
          "metadata": {},
          "execution_count": 27
        }
      ]
    },
    {
      "cell_type": "code",
      "source": [
        "np.where(m1==0) # used to find element in array"
      ],
      "metadata": {
        "colab": {
          "base_uri": "https://localhost:8080/"
        },
        "id": "hj1faKGrwLLh",
        "outputId": "78de8b79-322a-4dc4-b106-4a0413cc9929"
      },
      "execution_count": 30,
      "outputs": [
        {
          "output_type": "execute_result",
          "data": {
            "text/plain": [
              "(array([2]), array([2]))"
            ]
          },
          "metadata": {},
          "execution_count": 30
        }
      ]
    },
    {
      "cell_type": "code",
      "source": [
        "np.count_nonzero(m1) # used to count non zero elements in array"
      ],
      "metadata": {
        "colab": {
          "base_uri": "https://localhost:8080/"
        },
        "id": "hNdQVestwlDg",
        "outputId": "cbb53589-eea8-4d89-ba79-c7a9987753af"
      },
      "execution_count": 31,
      "outputs": [
        {
          "output_type": "execute_result",
          "data": {
            "text/plain": [
              "8"
            ]
          },
          "metadata": {},
          "execution_count": 31
        }
      ]
    },
    {
      "cell_type": "markdown",
      "source": [
        "**How take less space ?**\n",
        "----\n",
        "\n"
      ],
      "metadata": {
        "id": "GwA4tVVnfN3a"
      }
    },
    {
      "cell_type": "code",
      "source": [
        "import sys\n",
        "py_ar=[0,1,2,3]\n",
        "np_ar=np.array([0,1,2,3])"
      ],
      "metadata": {
        "id": "PkI4Xcm7xTon"
      },
      "execution_count": 33,
      "outputs": []
    },
    {
      "cell_type": "code",
      "source": [
        "sys.getsizeof(1) * len(py_ar)"
      ],
      "metadata": {
        "colab": {
          "base_uri": "https://localhost:8080/"
        },
        "id": "YstZWZZoxnm5",
        "outputId": "86b5f656-a6c5-444f-b988-1458fccbbc2f"
      },
      "execution_count": 35,
      "outputs": [
        {
          "output_type": "execute_result",
          "data": {
            "text/plain": [
              "112"
            ]
          },
          "metadata": {},
          "execution_count": 35
        }
      ]
    },
    {
      "cell_type": "code",
      "source": [
        "np_ar.itemsize * np_ar.size"
      ],
      "metadata": {
        "colab": {
          "base_uri": "https://localhost:8080/"
        },
        "id": "BNZouCUGxyej",
        "outputId": "d5217a01-2487-4628-a59e-ef34ec5032b0"
      },
      "execution_count": 36,
      "outputs": [
        {
          "output_type": "execute_result",
          "data": {
            "text/plain": [
              "32"
            ]
          },
          "metadata": {},
          "execution_count": 36
        }
      ]
    },
    {
      "cell_type": "markdown",
      "source": [
        "**you can clearly see above that np array is taking less space then pyhton array**"
      ],
      "metadata": {
        "id": "WqDxWWlgx97y"
      }
    },
    {
      "cell_type": "markdown",
      "source": [
        "# This guide explores the NumPy library, with a focus on mastering key topics that are essential for practical and effective use"
      ],
      "metadata": {
        "id": "_LYzxsgOyVy8"
      }
    }
  ]
}
